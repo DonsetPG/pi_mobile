{
 "cells": [
  {
   "cell_type": "markdown",
   "metadata": {},
   "source": [
    "# Imitation Learning for PI-Mobile"
   ]
  },
  {
   "cell_type": "code",
   "execution_count": 1,
   "metadata": {},
   "outputs": [
    {
     "name": "stdout",
     "output_type": "stream",
     "text": [
      "Data Manipulation, Mathematical Computation and Visualisation packages imported!\n",
      "Statistical packages imported!\n",
      "Metrics packages imported!\n",
      "Algorithm packages imported!\n",
      "Pipeline and preprocessing packages imported!\n",
      "Model selection packages imported!\n",
      "My colours are ready! :)\n",
      "Deprecation warning will be ignored!\n"
     ]
    }
   ],
   "source": [
    "import six\n",
    "import pandas               as pd\n",
    "import numpy                as np\n",
    "from IPython.display        import display\n",
    "import matplotlib.pyplot    as plt\n",
    "import seaborn              as sns\n",
    "import math\n",
    "import folium\n",
    "import progressbar\n",
    "%matplotlib inline\n",
    "sns.set(style='white', context='notebook', palette='deep')\n",
    "pd.set_option('display.max_columns',200)\n",
    "pd.set_option('display.max_rows', 100)\n",
    "print('Data Manipulation, Mathematical Computation and Visualisation packages imported!')\n",
    "\n",
    "# Statistical packages used for transformations\n",
    "from scipy              import stats\n",
    "from scipy.stats        import skew, norm\n",
    "from scipy.special      import boxcox1p\n",
    "from scipy.stats.stats  import pearsonr\n",
    "\n",
    "print('Statistical packages imported!')\n",
    "\n",
    "# Metrics used for measuring the accuracy and performance of the models\n",
    "#from sklearn import metrics\n",
    "#from sklearn.metrics import mean_squared_error\n",
    "print('Metrics packages imported!')\n",
    "\n",
    "# Algorithms used for modeling\n",
    "from sklearn.linear_model   import ElasticNet, Lasso,  BayesianRidge, LassoLarsIC\n",
    "from sklearn.ensemble       import RandomForestClassifier,  GradientBoostingClassifier, ExtraTreesClassifier\n",
    "from sklearn.kernel_ridge   import KernelRidge\n",
    "import xgboost              as xgb\n",
    "\n",
    "print('Algorithm packages imported!')\n",
    "\n",
    "# Pipeline and scaling preprocessing will be used for models that are sensitive\n",
    "from sklearn.pipeline           import make_pipeline\n",
    "from sklearn.preprocessing      import RobustScaler\n",
    "from sklearn.preprocessing      import StandardScaler\n",
    "from sklearn.preprocessing      import LabelEncoder\n",
    "from sklearn.feature_selection  import SelectFromModel\n",
    "from sklearn.feature_selection  import SelectKBest\n",
    "from sklearn.feature_selection  import chi2\n",
    "print('Pipeline and preprocessing packages imported!')\n",
    "\n",
    "# Model selection packages used for sampling dataset and optimising parameters\n",
    "\n",
    "from sklearn                    import model_selection\n",
    "from sklearn.model_selection    import KFold\n",
    "from sklearn.model_selection    import cross_val_score, train_test_split\n",
    "from sklearn.model_selection    import GridSearchCV\n",
    "from sklearn.model_selection    import ShuffleSplit\n",
    "print('Model selection packages imported!')\n",
    "\n",
    "import tensorflow as tf\n",
    "\n",
    "# Set visualisation colours\n",
    "mycols = [\"#66c2ff\", \"#5cd6d6\", \"#00cc99\", \"#85e085\", \"#ffd966\", \"#ffb366\", \"#ffb3b3\", \"#dab3ff\", \"#c2c2d6\"]\n",
    "sns.set_palette(palette = mycols, n_colors = 4)\n",
    "sns.set_style('darkgrid')\n",
    "print('My colours are ready! :)')\n",
    "\n",
    "# To ignore annoying warning\n",
    "import warnings\n",
    "def ignore_warn(*args, **kwargs):\n",
    "    pass\n",
    "warnings.warn = ignore_warn #ignore annoying warning (from sklearn and seaborn)\n",
    "warnings.filterwarnings(\"ignore\", category=DeprecationWarning)\n",
    "print('Deprecation warning will be ignored!')"
   ]
  },
  {
   "cell_type": "code",
   "execution_count": 2,
   "metadata": {},
   "outputs": [],
   "source": [
    "import cv2\n",
    "from os import listdir\n",
    "from os.path import isfile, join\n",
    "import progressbar"
   ]
  },
  {
   "cell_type": "markdown",
   "metadata": {},
   "source": [
    "# Extracting frames : "
   ]
  },
  {
   "cell_type": "markdown",
   "metadata": {},
   "source": [
    "The goal here is to extract frames from the video we recorded while driving the car. We extract here 10 frames per second."
   ]
  },
  {
   "cell_type": "code",
   "execution_count": 3,
   "metadata": {},
   "outputs": [],
   "source": [
    "video_folder = 'SelfDriving/Video/'\n",
    "img_folder = 'SelfDriving/Images/'\n",
    "videos_files = [f for f in listdir(video_folder) if isfile(join(video_folder, f))]"
   ]
  },
  {
   "cell_type": "code",
   "execution_count": 4,
   "metadata": {},
   "outputs": [
    {
     "data": {
      "text/plain": [
       "['test_1.mp4',\n",
       " 'test_3.mp4',\n",
       " 'test_2.mp4',\n",
       " 'test_6.mp4',\n",
       " 'test_7.mp4',\n",
       " 'test_5.mp4',\n",
       " 'test_4.mp4',\n",
       " 'test_8.mp4']"
      ]
     },
     "execution_count": 4,
     "metadata": {},
     "output_type": "execute_result"
    }
   ],
   "source": [
    "videos_files"
   ]
  },
  {
   "cell_type": "code",
   "execution_count": 5,
   "metadata": {},
   "outputs": [],
   "source": [
    "# Getting the FPS of our recorded video :\n",
    "test_path = video_folder + 'test_1.mp4'\n",
    "cap= cv2.VideoCapture(test_path)\n",
    "# ~30 : dividing by 3 to get ~10 FPS\n",
    "fps = cap.get(cv2.CAP_PROP_FPS)/3.\n",
    "cap.release()\n",
    "\n",
    "def get_time_from_frame(img_path):\n",
    "    indx = int(img_path[img_path.find('_frame_')+7:-4])\n",
    "    return indx/fps\n"
   ]
  },
  {
   "cell_type": "code",
   "execution_count": 52,
   "metadata": {},
   "outputs": [
    {
     "name": "stderr",
     "output_type": "stream",
     "text": [
      "\r",
      "N/A% (0 of 8) |                          | Elapsed Time: 0:00:00 ETA:  --:--:--"
     ]
    },
    {
     "name": "stdout",
     "output_type": "stream",
     "text": [
      "Extracting test_1.mp4\n"
     ]
    },
    {
     "name": "stderr",
     "output_type": "stream",
     "text": [
      "\r",
      " 12% (1 of 8) |###                       | Elapsed Time: 0:00:07 ETA:   0:00:54"
     ]
    },
    {
     "name": "stdout",
     "output_type": "stream",
     "text": [
      "Extracting test_3.mp4\n"
     ]
    },
    {
     "name": "stderr",
     "output_type": "stream",
     "text": [
      "\r",
      " 25% (2 of 8) |######                    | Elapsed Time: 0:00:18 ETA:   0:01:03"
     ]
    },
    {
     "name": "stdout",
     "output_type": "stream",
     "text": [
      "Extracting test_2.mp4\n"
     ]
    },
    {
     "name": "stderr",
     "output_type": "stream",
     "text": [
      "\r",
      " 37% (3 of 8) |#########                 | Elapsed Time: 0:00:26 ETA:   0:00:40"
     ]
    },
    {
     "name": "stdout",
     "output_type": "stream",
     "text": [
      "Extracting test_6.mp4\n"
     ]
    },
    {
     "name": "stderr",
     "output_type": "stream",
     "text": [
      "\r",
      " 50% (4 of 8) |#############             | Elapsed Time: 0:00:29 ETA:   0:00:11"
     ]
    },
    {
     "name": "stdout",
     "output_type": "stream",
     "text": [
      "Extracting test_7.mp4\n"
     ]
    },
    {
     "name": "stderr",
     "output_type": "stream",
     "text": [
      "\r",
      " 62% (5 of 8) |################          | Elapsed Time: 0:00:53 ETA:   0:01:10"
     ]
    },
    {
     "name": "stdout",
     "output_type": "stream",
     "text": [
      "Extracting test_5.mp4\n"
     ]
    },
    {
     "name": "stderr",
     "output_type": "stream",
     "text": [
      "\r",
      " 75% (6 of 8) |###################       | Elapsed Time: 0:00:57 ETA:   0:00:08"
     ]
    },
    {
     "name": "stdout",
     "output_type": "stream",
     "text": [
      "Extracting test_4.mp4\n"
     ]
    },
    {
     "name": "stderr",
     "output_type": "stream",
     "text": [
      "\r",
      " 87% (7 of 8) |######################    | Elapsed Time: 0:01:31 ETA:   0:00:34"
     ]
    },
    {
     "name": "stdout",
     "output_type": "stream",
     "text": [
      "Extracting test_8.mp4\n"
     ]
    },
    {
     "name": "stderr",
     "output_type": "stream",
     "text": [
      "100% (8 of 8) |##########################| Elapsed Time: 0:02:08 Time:  0:02:08\n"
     ]
    }
   ],
   "source": [
    "# Extracting the frames from each vdeo : \n",
    "\n",
    "for video_name in progressbar.progressbar(videos_files):\n",
    "    print(\"Extracting {}\".format(video_name))\n",
    "    video_full_path = video_folder + video_name\n",
    "    \n",
    "    cap= cv2.VideoCapture(video_full_path)\n",
    "    i=0\n",
    "    while(cap.isOpened()):\n",
    "        name_frame = img_folder + video_name + \"_frame_\" + str(i//3) + '.jpg'\n",
    "        ret, frame = cap.read()\n",
    "        if ret == False:\n",
    "            break\n",
    "        if i%3 == 0:\n",
    "            cv2.imwrite(name_frame,frame)\n",
    "        i+=1\n",
    "\n",
    "    cap.release()\n",
    "    cv2.destroyAllWindows()"
   ]
  },
  {
   "cell_type": "markdown",
   "metadata": {},
   "source": [
    "# Handling Inputs :"
   ]
  },
  {
   "cell_type": "markdown",
   "metadata": {},
   "source": [
    "Here, we take care of the control and the inputs. The goal is to link them to each frame. When a frame occurs between 2 inputs, we link it with the one occuring just before."
   ]
  },
  {
   "cell_type": "code",
   "execution_count": 6,
   "metadata": {},
   "outputs": [],
   "source": [
    "import PIL\n",
    "from PIL import Image"
   ]
  },
  {
   "cell_type": "markdown",
   "metadata": {},
   "source": [
    "## Hardcode conditions for turning frames : "
   ]
  },
  {
   "cell_type": "code",
   "execution_count": 7,
   "metadata": {},
   "outputs": [],
   "source": [
    "# 1\n",
    "frame_left_1 = ['test_3.mp4_frame_'+str(i)+'.jpg' for i in range(50,100)]\n",
    "frame_left_2 = ['test_4.mp4_frame_'+str(i)+'.jpg' for i in range(1330,1371)]\n",
    "frame_left_3 = ['test_4.mp4_frame_'+str(i)+'.jpg' for i in range(1507,1548)]\n",
    "frame_left = frame_left_1 + frame_left_2 + frame_left_3"
   ]
  },
  {
   "cell_type": "code",
   "execution_count": 8,
   "metadata": {},
   "outputs": [],
   "source": [
    "# 2\n",
    "frame_right_1 = ['test_7.mp4_frame_' + str(i)+'.jpg' for i in range(926,964)]\n",
    "frame_right_2 = ['test_7.mp4_frame_' + str(i)+'.jpg' for i in range(1119,1150)]\n",
    "frame_right_3 = ['test_8.mp4_frame_' + str(i)+'.jpg' for i in range(1481,1537)]\n",
    "frame_right = frame_right_1 + frame_right_2 + frame_right_3"
   ]
  },
  {
   "cell_type": "code",
   "execution_count": 9,
   "metadata": {},
   "outputs": [],
   "source": [
    "# 0 \n",
    "frame_forward = ['test_1.mp4_frame_' + str(i)+'.jpg' for i in range(265,288)]"
   ]
  },
  {
   "cell_type": "code",
   "execution_count": 10,
   "metadata": {},
   "outputs": [],
   "source": [
    "data_folder = 'SelfDriving/Data/'\n",
    "import json \n",
    "def mapping_data(dict_data):\n",
    "    new_inputs = []\n",
    "    new_time = []\n",
    "    start_time = dict_data['time'][0]\n",
    "    for key,time in zip(dict_data['key'],dict_data['time']):\n",
    "        if key == '8':\n",
    "            new_inputs.append(0)\n",
    "        elif key == '6':\n",
    "            new_inputs.append(1)\n",
    "        elif key == '4':\n",
    "            new_inputs.append(2)\n",
    "        else: \n",
    "            new_inputs.append(0)\n",
    "        new_time.append(time - start_time)\n",
    "    return new_inputs, new_time"
   ]
  },
  {
   "cell_type": "code",
   "execution_count": 11,
   "metadata": {},
   "outputs": [],
   "source": [
    "img_to_data = {\n",
    "    'test_1': mapping_data(json.load(open(data_folder+'data_1.json'))),\n",
    "    'test_2': mapping_data(json.load(open(data_folder+'data_2.json'))),\n",
    "    'test_3': mapping_data(json.load(open(data_folder+'data_3.json'))),\n",
    "    'test_4': mapping_data(json.load(open(data_folder+'data_4.json'))),\n",
    "    'test_5': mapping_data(json.load(open(data_folder+'data_5.json'))),\n",
    "    'test_6': mapping_data(json.load(open(data_folder+'data_6.json'))),\n",
    "    'test_8': mapping_data(json.load(open(data_folder+'data_8.json')))\n",
    "}"
   ]
  },
  {
   "cell_type": "code",
   "execution_count": 12,
   "metadata": {},
   "outputs": [],
   "source": [
    "data_inputs = {\n",
    "    'inputs': [],\n",
    "    'time': [],\n",
    "    'frame':[],\n",
    "    'condition':[]\n",
    "}"
   ]
  },
  {
   "cell_type": "code",
   "execution_count": 13,
   "metadata": {},
   "outputs": [],
   "source": [
    "def _get_img(img_path):\n",
    "    img = np.array(Image.open(img_folder+img_path).resize((224,224)))\n",
    "    return img\n",
    "def _get_condition(img_path):\n",
    "    if img_path in frame_left:\n",
    "        return 1\n",
    "    elif img_path in frame_right:\n",
    "        return 2\n",
    "    else:\n",
    "        return 0"
   ]
  },
  {
   "cell_type": "code",
   "execution_count": 14,
   "metadata": {},
   "outputs": [],
   "source": [
    "full_imgs = [f for f in listdir(img_folder) if isfile(join(img_folder, f))]"
   ]
  },
  {
   "cell_type": "code",
   "execution_count": 117,
   "metadata": {},
   "outputs": [
    {
     "name": "stderr",
     "output_type": "stream",
     "text": [
      "100% (9063 of 9063) |####################| Elapsed Time: 0:01:36 Time:  0:01:36\n"
     ]
    }
   ],
   "source": [
    "for img_path in progressbar.progressbar(full_imgs):\n",
    "    video_name = img_path[0:6]\n",
    "    if video_name != 'test_7':\n",
    "        \n",
    "        key_inputs,time_inputs = img_to_data[video_name]\n",
    "        \n",
    "        time_code = get_time_from_frame(img_path)\n",
    "        i = 0\n",
    "        img = _get_img(img_path)\n",
    "        condition = _get_condition(img_path)\n",
    "\n",
    "        if time_code < 0.001:\n",
    "            data_inputs['inputs'].append(key_inputs[0])\n",
    "            data_inputs['time'].append(0.0)\n",
    "            data_inputs['frame'].append(img)\n",
    "            data_inputs['condition'].append(condition)\n",
    "        else:\n",
    "            while time_inputs[i] < time_code:\n",
    "                i += 1\n",
    "            data_inputs['inputs'].append(key_inputs[i-1])\n",
    "            data_inputs['time'].append(time_inputs[i-1])\n",
    "            data_inputs['frame'].append(img)\n",
    "            data_inputs['condition'].append(condition)\n",
    "            \n",
    "        "
   ]
  },
  {
   "cell_type": "code",
   "execution_count": 118,
   "metadata": {},
   "outputs": [],
   "source": [
    "full_imgs = data_inputs['frame']\n",
    "full_data = {\n",
    "    'inputs':data_inputs['inputs'],\n",
    "    'time':data_inputs['time'],\n",
    "    'condition':data_inputs['condition']\n",
    "}"
   ]
  },
  {
   "cell_type": "code",
   "execution_count": 119,
   "metadata": {},
   "outputs": [],
   "source": [
    "with open('SelfDriving/Data/full_data.json', 'w') as fp:\n",
    "    json.dump(full_data, fp)"
   ]
  },
  {
   "cell_type": "code",
   "execution_count": 120,
   "metadata": {},
   "outputs": [],
   "source": [
    "full_imgs = np.array(full_imgs)"
   ]
  },
  {
   "cell_type": "code",
   "execution_count": 121,
   "metadata": {},
   "outputs": [],
   "source": [
    "np.save('SelfDriving/Data/full_imgs.npy',full_imgs)"
   ]
  },
  {
   "cell_type": "code",
   "execution_count": 13,
   "metadata": {},
   "outputs": [],
   "source": [
    "full_img = np.load('SelfDriving/Data/full_imgs.npy')"
   ]
  },
  {
   "cell_type": "markdown",
   "metadata": {},
   "source": [
    "# Small Data Analysis : "
   ]
  },
  {
   "cell_type": "code",
   "execution_count": 14,
   "metadata": {},
   "outputs": [],
   "source": [
    "import json"
   ]
  },
  {
   "cell_type": "code",
   "execution_count": 15,
   "metadata": {},
   "outputs": [],
   "source": [
    "full_data = json.load(open('SelfDriving/Data/full_data.json'))"
   ]
  },
  {
   "cell_type": "code",
   "execution_count": 125,
   "metadata": {},
   "outputs": [],
   "source": [
    "df = pd.DataFrame(full_data)"
   ]
  },
  {
   "cell_type": "code",
   "execution_count": 126,
   "metadata": {},
   "outputs": [
    {
     "data": {
      "text/html": [
       "<div>\n",
       "<style scoped>\n",
       "    .dataframe tbody tr th:only-of-type {\n",
       "        vertical-align: middle;\n",
       "    }\n",
       "\n",
       "    .dataframe tbody tr th {\n",
       "        vertical-align: top;\n",
       "    }\n",
       "\n",
       "    .dataframe thead th {\n",
       "        text-align: right;\n",
       "    }\n",
       "</style>\n",
       "<table border=\"1\" class=\"dataframe\">\n",
       "  <thead>\n",
       "    <tr style=\"text-align: right;\">\n",
       "      <th></th>\n",
       "      <th>inputs</th>\n",
       "      <th>time</th>\n",
       "      <th>condition</th>\n",
       "    </tr>\n",
       "  </thead>\n",
       "  <tbody>\n",
       "    <tr>\n",
       "      <th>0</th>\n",
       "      <td>2</td>\n",
       "      <td>2.588967</td>\n",
       "      <td>0</td>\n",
       "    </tr>\n",
       "    <tr>\n",
       "      <th>1</th>\n",
       "      <td>0</td>\n",
       "      <td>41.692584</td>\n",
       "      <td>0</td>\n",
       "    </tr>\n",
       "    <tr>\n",
       "      <th>2</th>\n",
       "      <td>2</td>\n",
       "      <td>138.952270</td>\n",
       "      <td>0</td>\n",
       "    </tr>\n",
       "    <tr>\n",
       "      <th>3</th>\n",
       "      <td>0</td>\n",
       "      <td>0.000000</td>\n",
       "      <td>0</td>\n",
       "    </tr>\n",
       "    <tr>\n",
       "      <th>4</th>\n",
       "      <td>0</td>\n",
       "      <td>34.373897</td>\n",
       "      <td>0</td>\n",
       "    </tr>\n",
       "    <tr>\n",
       "      <th>...</th>\n",
       "      <td>...</td>\n",
       "      <td>...</td>\n",
       "      <td>...</td>\n",
       "    </tr>\n",
       "    <tr>\n",
       "      <th>7404</th>\n",
       "      <td>0</td>\n",
       "      <td>8.504497</td>\n",
       "      <td>0</td>\n",
       "    </tr>\n",
       "    <tr>\n",
       "      <th>7405</th>\n",
       "      <td>1</td>\n",
       "      <td>15.875353</td>\n",
       "      <td>0</td>\n",
       "    </tr>\n",
       "    <tr>\n",
       "      <th>7406</th>\n",
       "      <td>0</td>\n",
       "      <td>195.907482</td>\n",
       "      <td>0</td>\n",
       "    </tr>\n",
       "    <tr>\n",
       "      <th>7407</th>\n",
       "      <td>2</td>\n",
       "      <td>43.297339</td>\n",
       "      <td>0</td>\n",
       "    </tr>\n",
       "    <tr>\n",
       "      <th>7408</th>\n",
       "      <td>2</td>\n",
       "      <td>2.588967</td>\n",
       "      <td>0</td>\n",
       "    </tr>\n",
       "  </tbody>\n",
       "</table>\n",
       "<p>7409 rows × 3 columns</p>\n",
       "</div>"
      ],
      "text/plain": [
       "      inputs        time  condition\n",
       "0          2    2.588967          0\n",
       "1          0   41.692584          0\n",
       "2          2  138.952270          0\n",
       "3          0    0.000000          0\n",
       "4          0   34.373897          0\n",
       "...      ...         ...        ...\n",
       "7404       0    8.504497          0\n",
       "7405       1   15.875353          0\n",
       "7406       0  195.907482          0\n",
       "7407       2   43.297339          0\n",
       "7408       2    2.588967          0\n",
       "\n",
       "[7409 rows x 3 columns]"
      ]
     },
     "execution_count": 126,
     "metadata": {},
     "output_type": "execute_result"
    }
   ],
   "source": [
    "df"
   ]
  },
  {
   "cell_type": "code",
   "execution_count": 127,
   "metadata": {},
   "outputs": [
    {
     "data": {
      "image/png": "[encoded data removed]",
      "text/plain": [
       "<Figure size 432x288 with 1 Axes>"
      ]
     },
     "metadata": {},
     "output_type": "display_data"
    }
   ],
   "source": [
    "ax = sns.distplot(df['inputs'])"
   ]
  },
  {
   "cell_type": "code",
   "execution_count": 128,
   "metadata": {},
   "outputs": [
    {
     "data": {
      "image/png": "[encoded data removed]",
      "text/plain": [
       "<Figure size 432x288 with 1 Axes>"
      ]
     },
     "metadata": {},
     "output_type": "display_data"
    }
   ],
   "source": [
    "ax = sns.distplot(df['time'])"
   ]
  },
  {
   "cell_type": "markdown",
   "metadata": {},
   "source": [
    "# Training a simple first model:"
   ]
  },
  {
   "cell_type": "code",
   "execution_count": 16,
   "metadata": {},
   "outputs": [
    {
     "name": "stderr",
     "output_type": "stream",
     "text": [
      "Using TensorFlow backend.\n"
     ]
    }
   ],
   "source": [
    "from keras import backend as K\n",
    "from keras import __version__\n",
    "import keras\n",
    "# Pour charger notre modèle : \n",
    "from keras.models import Model\n",
    "from keras.models import load_model\n",
    "\n",
    "# Pour modifier notre modèle : \n",
    "from keras.layers import Dense, MaxPooling2D, AveragePooling2D, GlobalAveragePooling2D, Input, Flatten, Dropout\n",
    "from keras.optimizers import SGD\n",
    "from keras.utils import plot_model\n",
    "\n",
    "# Pour modifier nos images et les utiliser : \n",
    "\n",
    "from keras.preprocessing.image import ImageDataGenerator"
   ]
  },
  {
   "cell_type": "code",
   "execution_count": 17,
   "metadata": {},
   "outputs": [],
   "source": [
    "from keras.applications import MobileNet"
   ]
  },
  {
   "cell_type": "code",
   "execution_count": 18,
   "metadata": {},
   "outputs": [],
   "source": [
    "model = MobileNet(input_shape=(224,224,3),include_top=False,weights=None)"
   ]
  },
  {
   "cell_type": "code",
   "execution_count": 20,
   "metadata": {},
   "outputs": [],
   "source": [
    "def _build_model(model):\n",
    "    inputs_mobilenet = model.input\n",
    "    \n",
    "    x = model.output\n",
    "    x = AveragePooling2D((4,4), padding='valid')(x)\n",
    "    x = Dropout(0.4)(x)\n",
    "    x = Flatten()(x) \n",
    "    merged = x\n",
    "    x = Dense(2048,activation='relu')(merged)\n",
    "    x = Dropout(0.3)(x)\n",
    "    predictions = Dense(3, activation='softmax')(x)\n",
    "    \n",
    "    full_model = Model(inputs=inputs_mobilenet,outputs=predictions)\n",
    "    \n",
    "    return full_model"
   ]
  },
  {
   "cell_type": "code",
   "execution_count": 21,
   "metadata": {},
   "outputs": [],
   "source": [
    "full_model = _build_model(model)"
   ]
  },
  {
   "cell_type": "markdown",
   "metadata": {},
   "source": [
    "# Training : "
   ]
  },
  {
   "cell_type": "code",
   "execution_count": 23,
   "metadata": {},
   "outputs": [],
   "source": [
    "from sklearn.model_selection    import train_test_split\n",
    "Y = full_data['inputs']\n",
    "X_img = full_img/255.\n",
    "X_condition = full_data['condition']"
   ]
  },
  {
   "cell_type": "code",
   "execution_count": 24,
   "metadata": {},
   "outputs": [],
   "source": [
    "Y_ = [] \n",
    "for y in Y:\n",
    "    if y == 0:\n",
    "        Y_.append(np.array([1,0,0]))\n",
    "    elif y == 1:\n",
    "        Y_.append(np.array([0,1,0]))\n",
    "    else:\n",
    "        Y_.append(np.array([0,0,1]))\n",
    "Y = np.array(Y_)"
   ]
  },
  {
   "cell_type": "code",
   "execution_count": 25,
   "metadata": {},
   "outputs": [],
   "source": [
    "X_condition_ = []\n",
    "for x in X_condition:\n",
    "    X_condition_.append(np.array(x))\n",
    "X_condition = np.array(X_condition_)"
   ]
  },
  {
   "cell_type": "code",
   "execution_count": 26,
   "metadata": {},
   "outputs": [],
   "source": [
    "full_model.compile(optimizer='adam',\n",
    "                  loss='categorical_crossentropy',\n",
    "                  metrics=['accuracy'])"
   ]
  },
  {
   "cell_type": "markdown",
   "metadata": {},
   "source": [
    "### Increase Dataset Size : "
   ]
  },
  {
   "cell_type": "code",
   "execution_count": 27,
   "metadata": {},
   "outputs": [],
   "source": [
    "X_train, X_test, y_train, y_test = train_test_split(X_img, Y, test_size=0.33, random_state=42)"
   ]
  },
  {
   "cell_type": "code",
   "execution_count": 28,
   "metadata": {},
   "outputs": [],
   "source": [
    "datagen = keras.preprocessing.image.ImageDataGenerator(\n",
    "    height_shift_range=0.1,\n",
    "    brightness_range=[0.5,1.2],\n",
    "    zoom_range = [0.8,1.2])"
   ]
  },
  {
   "cell_type": "code",
   "execution_count": 29,
   "metadata": {},
   "outputs": [],
   "source": [
    "datagen.fit(X_train)"
   ]
  },
  {
   "cell_type": "code",
   "execution_count": 31,
   "metadata": {},
   "outputs": [
    {
     "name": "stdout",
     "output_type": "stream",
     "text": [
      "Epoch 1/1\n",
      "156/155 [==============================] - 549s 4s/step - loss: 0.9277 - accuracy: 0.6118\n"
     ]
    }
   ],
   "source": [
    "history = full_model.fit_generator(datagen.flow(X_train, y_train, batch_size=32),\n",
    "                    steps_per_epoch=len(X_train) / 32, epochs=1)"
   ]
  },
  {
   "cell_type": "code",
   "execution_count": null,
   "metadata": {},
   "outputs": [],
   "source": []
  }
 ],
 "metadata": {
  "kernelspec": {
   "display_name": "Python 3",
   "language": "python",
   "name": "python3"
  },
  "language_info": {
   "codemirror_mode": {
    "name": "ipython",
    "version": 3
   },
   "file_extension": ".py",
   "mimetype": "text/x-python",
   "name": "python",
   "nbconvert_exporter": "python",
   "pygments_lexer": "ipython3",
   "version": "3.7.7"
  }
 },
 "nbformat": 4,
 "nbformat_minor": 4
}
